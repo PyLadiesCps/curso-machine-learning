{
 "cells": [
  {
   "cell_type": "markdown",
   "metadata": {},
   "source": [
    "Exemplo 1\n",
    "=========\n",
    "\n",
    " Neste exemplo usaremos um conjunto de dados de exemplo chamado *digits*, composta por 1797 imagens de dígitos de tamanho 8x8 digitalizadas e preprocessadas, disponível na biblioteca [scikit-learn](http://scikit-learn.org/). Para saber mais sobre os dados consulte [a documentação](http://scikit-learn.org/stable/auto_examples/datasets/plot_digits_last_image.html)."
   ]
  },
  {
   "cell_type": "code",
   "execution_count": null,
   "metadata": {
    "collapsed": false
   },
   "outputs": [],
   "source": [
    "from sklearn import datasets\n",
    "\n",
    "digits = datasets.load_digits()\n",
    "print(\"Numero de imagens:\", len(digits.images))"
   ]
  },
  {
   "cell_type": "markdown",
   "metadata": {},
   "source": [
    "Visualizando os dados\n",
    "---------------------\n",
    "\n",
    "Para termos uma ideia do que estamos trabalhando, é sempre bom fazer uma análise exploratória\n",
    "dos dados **antes** de aplicar algoritmos de *machine learning*. Para termos uma ideia de como são\n",
    "os dados veja o exemplo abaixo."
   ]
  },
  {
   "cell_type": "code",
   "execution_count": null,
   "metadata": {
    "collapsed": false
   },
   "outputs": [],
   "source": [
    "%matplotlib inline\n",
    "import matplotlib.pyplot as plt\n",
    "\n",
    "# Imprime a figura de exemplo\n",
    "plt.imshow(digits.images[0], cmap=plt.cm.binary)\n",
    "plt.show()\n",
    "# Imprime a saída correspondente à figura de exemplo\n",
    "print(\"Class:\", digits.target[0])"
   ]
  },
  {
   "cell_type": "markdown",
   "metadata": {},
   "source": [
    "Aplicando um algorítmo de ML\n",
    "----------------------------\n",
    "\n",
    "Finalmente, vamos ao nosso primeiro exemplo. Usaremos um classificador chamado \n",
    "**SVM** (*Support Vector Machine*) para tentar montar um modelo que dado um dígito \n",
    "escrito a mão na entrada, preveja qual é número correspondente"
   ]
  },
  {
   "cell_type": "code",
   "execution_count": null,
   "metadata": {
    "collapsed": false,
    "scrolled": true
   },
   "outputs": [],
   "source": [
    "# Modelo de classificação com SVM\n",
    "from sklearn.svm import SVC\n",
    "from sklearn.metrics import classification_report\n",
    "\n",
    "svm = SVC(kernel='linear')\n",
    "\n",
    "x_train = digits.data[:1000]\n",
    "y_train = digits.target[:1000]\n",
    "\n",
    "# Treinamento (com 1000 imagens)\n",
    "svm.fit(x_train, y_train)\n",
    "\n",
    "# Testes (com 797 imagens)\n",
    "x_test = digits.data[1000:]\n",
    "y_predicted = svm.predict(x_test)\n",
    "y_expected = digits.target[1000:]\n",
    "\n",
    "print(classification_report(y_expected, y_predicted))"
   ]
  },
  {
   "cell_type": "markdown",
   "metadata": {},
   "source": [
    "O que é uma SVM?\n",
    "----------------\n",
    "\n",
    "Por ora não precisamos saber detalhes, mas uma explicação rápida é a seguinte: \n",
    "Vamos imaginar um conjunto  de dados com apenas duas dimensoes de entrada (x1 e x2) e com duas classes\n",
    "(azul e vermelha) como o da figura abaixo. \n",
    "Uma SVM é capaz de encontrar uma reta que separa o conjunto com a maior distância\n",
    "média possível entre os pontos da fronteira das duas classes. \n",
    "\n",
    "![Sets linearmente separáveis](img/svm.png)\n",
    "\n",
    "Isto também funciona com um número maior de entradas, como no nosso exemplo, em que temos\n",
    "16x16=256 entradas, mas a separação deixa de ser um plano e passa a ser o que chamamos de \n",
    "hiperplano em 255 dimensões. \n",
    "\n",
    "Para mais detalhes, consulte:\n",
    "\n",
    "Obs: está e uma explicação para uma SVM com kernel linear, como a que usamos neste\n",
    "exemplo. Outros tipos existem e a diferença básica entre eles é que ao invés de\n",
    "um hiperplano, outros modelos geram estruturas geométricas diferentes, que podem\n",
    "ser mais úteis em certos problemas."
   ]
  },
  {
   "cell_type": "markdown",
   "metadata": {},
   "source": [
    "Exercício 1.1: Random Forests\n",
    "-----------------------------\n",
    "\n",
    "Reproduza o primeiro exemplo usando o classificador por *random forests*,\n",
    "você pode variar o número de árvores de decisão usadas pelo parâmetro `n_estimators`\n",
    "e tentar melhorar a precisão do algorítmo."
   ]
  },
  {
   "cell_type": "code",
   "execution_count": null,
   "metadata": {
    "collapsed": false
   },
   "outputs": [],
   "source": [
    "from sklearn.ensemble import RandomForestClassifier\n",
    "\n",
    "rf = RandomForestClassifier(n_estimators=10)"
   ]
  },
  {
   "cell_type": "markdown",
   "metadata": {},
   "source": [
    "O que é uma Random Forest?\n",
    "--------------------------\n",
    "\n",
    "Resumindo, um algoritmo de *Random Forest* divide os dados em N grupos e monta N\n",
    "árvores de decisão (como a da imagem abaixo) para cada grupo. \n",
    "Ao final, o resultado das várias árvores é combinado para gerar a resposta final.\n",
    "Note que a motivação teórica deste algoritmo é bem diferente de uma SVM, mas \n",
    "as duas tem papeis e resultados parecidos.\n",
    "\n",
    "![Árvore de decisão](img/tree.png)"
   ]
  },
  {
   "cell_type": "markdown",
   "metadata": {},
   "source": [
    "A informação está nos dados \n",
    "---------------------------\n",
    "\n",
    "Menos dados pode significar uma precisão pior, já que a informação do\n",
    "nosso modelo está nos dados, e não diretamente no algoritmo empregado.\n",
    "Mas isso nem sempre é verdade, pois o nosso algoritmo pode ter limitações."
   ]
  },
  {
   "cell_type": "code",
   "execution_count": null,
   "metadata": {
    "collapsed": false
   },
   "outputs": [],
   "source": [
    "svm = SVC(kernel='linear')\n",
    "\n",
    "# Treinamento com 50 imagens\n",
    "svm.fit(digits.data[:50], digits.target[:50])\n",
    "\n",
    "# Testes\n",
    "predicted = svm.predict(digits.data[1000:])\n",
    "expected = digits.target[1000:]\n",
    "print(classification_report(expected, predicted))"
   ]
  },
  {
   "cell_type": "markdown",
   "metadata": {},
   "source": [
    "Exercício 1.2: Rede Neural Perceptron\n",
    "-------------------------------------\n",
    "\n",
    "Vamos agora repetir o problema para uma rede neural do tipo *Perceptron*.\n",
    "Também não vamos entrar em detalhes do algoritmo agora, mas podemos dizer\n",
    "que ele é um algoritmo mais versátil que SVMs e *Random Forests*."
   ]
  },
  {
   "cell_type": "code",
   "execution_count": null,
   "metadata": {
    "collapsed": false
   },
   "outputs": [],
   "source": [
    "# Obs: não executa no binder\n",
    "from sklearn.neural_network import MLPClassifier \n",
    "\n",
    "mlp = MLPClassifier(hidden_layer_sizes=(100))"
   ]
  },
  {
   "cell_type": "markdown",
   "metadata": {},
   "source": [
    "Exercício 1.3: Spam\n",
    "-------------------\n",
    "\n",
    "Agora é hora de aplicar os algorítimos \"de verdade\".\n",
    "Vamos ler um conjunto de dados de mensagens SMS entre\n",
    "mensagens reais e *spams* e devemos classificá-las corretamente.\n",
    "\n",
    "Use o algorítmo que quiser, para facilitar a vida já fizemos parte do préprocessamento."
   ]
  },
  {
   "cell_type": "code",
   "execution_count": null,
   "metadata": {
    "collapsed": false
   },
   "outputs": [],
   "source": [
    "import numpy as np\n",
    "from sklearn.cluster import KMeans\n",
    "from sklearn.feature_extraction.text import CountVectorizer\n",
    "\n",
    "# Abre o dataset\n",
    "data = open('../data/spam/SMSSpamCollection').read()\n",
    "\n",
    "# Cada linha é uma mensagem e a ultima esstá em branco\n",
    "data = data.split('\\n')[:-1]\n",
    "# as classes estão antes do primeiro espaço\n",
    "classes = [line.split('\\t', 1)[0] for line in data[:-1]]\n",
    "# As mensagens estão depois do primeiro espaço\n",
    "messages = [line.split('\\t', 1)[1] for line in data[:-1]]\n",
    "\n",
    "# Transforma as mensagens em uma grande matriz (esparsa) de palavras\n",
    "count_vect = CountVectorizer()\n",
    "features = count_vect.fit_transform(messages)\n",
    "\n",
    "##### Aqui é por sua conta #####"
   ]
  },
  {
   "cell_type": "markdown",
   "metadata": {},
   "source": [
    "Desafio: Melhorar a precisão dos exemplos\n",
    "-----------------------------------------\n",
    "\n",
    "Não discutimos isto, mas os algoritmos utilizados tem parâmetros que permitem \n",
    "obter um modelo melhor. Busque na documentação os algoritmos utilizados \n",
    "(ou outros se preferir) e procure melhorar a precisão."
   ]
  }
 ],
 "metadata": {
  "kernelspec": {
   "display_name": "Python 2",
   "language": "python",
   "name": "python2"
  },
  "language_info": {
   "codemirror_mode": {
    "name": "ipython",
    "version": 2
   },
   "file_extension": ".py",
   "mimetype": "text/x-python",
   "name": "python",
   "nbconvert_exporter": "python",
   "pygments_lexer": "ipython2",
   "version": "2.7.12"
  }
 },
 "nbformat": 4,
 "nbformat_minor": 1
}
