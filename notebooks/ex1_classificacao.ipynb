{
 "cells": [
  {
   "cell_type": "markdown",
   "metadata": {},
   "source": [
    "Exemplo 1\n",
    "=========\n",
    "\n",
    " Neste exemplo usaremos um conjunto de dados de exemplo chamado *digits*, composta por 1797 imagens de dígitos de tamanho 16x16 digitalizadas e preprocessadas, disponível na biblioteca [scikit-learn](http://scikit-learn.org/). Para saber mais sobre os dados consulte [a documentação](http://scikit-learn.org/stable/auto_examples/datasets/plot_digits_last_image.html)."
   ]
  },
  {
   "cell_type": "code",
   "execution_count": 8,
   "metadata": {
    "collapsed": false
   },
   "outputs": [
    {
     "name": "stdout",
     "output_type": "stream",
     "text": [
      "('Numero de imagens:', 1797)\n"
     ]
    }
   ],
   "source": [
    "from sklearn import datasets\n",
    "\n",
    "digits = datasets.load_digits()\n",
    "print(\"Numero de imagens:\", len(digits.images))"
   ]
  },
  {
   "cell_type": "markdown",
   "metadata": {},
   "source": [
    "Visualizando os dados\n",
    "---------------------\n",
    "\n",
    "Para termos uma ideia do que estamos trabalhando, é sempre bom fazer uma análise exploratória\n",
    "dos dados **antes** de aplicar algoritmos de *machine learning*. Para termos uma ideia de como são\n",
    "os dados veja o exemplo abaixo."
   ]
  },
  {
   "cell_type": "code",
   "execution_count": 9,
   "metadata": {
    "collapsed": false
   },
   "outputs": [
    {
     "data": {
      "image/png": "[encoded data removed]",
      "text/plain": [
       "<matplotlib.figure.Figure at 0x7f1815394d10>"
      ]
     },
     "metadata": {},
     "output_type": "display_data"
    },
    {
     "name": "stdout",
     "output_type": "stream",
     "text": [
      "('Class:', 0)\n"
     ]
    }
   ],
   "source": [
    "import matplotlib.pyplot as plt\n",
    "\n",
    "# Imprime a figura de exemplo\n",
    "plt.imshow(digits.images[0], cmap=plt.cm.binary)\n",
    "plt.show()\n",
    "# Imprime a saída correspondente à figura de exemplo\n",
    "print(\"Class:\", digits.target[0])"
   ]
  },
  {
   "cell_type": "markdown",
   "metadata": {},
   "source": [
    "Aplicando um algorítmo de ML\n",
    "----------------------------\n",
    "\n",
    "Finalmente, vamos ao nosso primeiro exemplo. Usaremos um classificador chamado \n",
    "**SVM** (*Support Vector Machine*) para tentar montar um modelo que dado um dígito \n",
    "escrito a mão na entrada, preveja qual é número correspondente"
   ]
  },
  {
   "cell_type": "code",
   "execution_count": 34,
   "metadata": {
    "collapsed": false,
    "scrolled": true
   },
   "outputs": [
    {
     "name": "stdout",
     "output_type": "stream",
     "text": [
      "             precision    recall  f1-score   support\n",
      "\n",
      "          0       0.96      0.99      0.97        79\n",
      "          1       0.96      0.89      0.92        80\n",
      "          2       1.00      0.99      0.99        77\n",
      "          3       0.97      0.84      0.90        79\n",
      "          4       1.00      0.94      0.97        83\n",
      "          5       0.89      0.99      0.94        82\n",
      "          6       0.98      0.99      0.98        80\n",
      "          7       0.94      0.95      0.94        80\n",
      "          8       0.87      0.93      0.90        76\n",
      "          9       0.88      0.93      0.90        81\n",
      "\n",
      "avg / total       0.94      0.94      0.94       797\n",
      "\n",
      "0.942283563363\n"
     ]
    }
   ],
   "source": [
    "# Modelo de classificação com SVM\n",
    "from sklearn.svm import SVC\n",
    "from sklearn.metrics import classification_report\n",
    "\n",
    "# \n",
    "svm = SVC(kernel='linear')\n",
    "\n",
    "x_train = digits.data[:1000]\n",
    "y_train = digits.target[:1000]\n",
    "\n",
    "# Treinamento (com 1000 imagens)\n",
    "svm.fit(x_train, y_train)\n",
    "\n",
    "# Testes (com 797 imagens)\n",
    "x_test = digits.data[1000:]\n",
    "y_predicted = svm.predict(x_test)\n",
    "y_expected = digits.target[1000:]\n",
    "\n",
    "print(classification_report(y_expected, y_predicted))"
   ]
  },
  {
   "cell_type": "markdown",
   "metadata": {},
   "source": [
    "O que é uma SVM?\n",
    "----------------\n",
    "\n",
    "Por ora não precisamos saber detalhes, mas uma explicação rápida é a seguinte: \n",
    "Vamos imaginar um conjunto  de dados com apenas duas dimensoes de entrada (x1 e x2) e com duas classes\n",
    "(azul e vermelha) como o da figura abaixo. \n",
    "Uma SVM é capaz de encontrar uma reta que separa o conjunto com a maior distância\n",
    "média possível entre os pontos da fronteira das duas classes. \n",
    "\n",
    "![title](img/svm.png)\n",
    "\n",
    "Isto também funciona com um número maior de entradas, como no nosso exemplo, em que temos\n",
    "16x16=256 entradas, mas a separação deixa de ser um plano e passa a ser o que chamamos de \n",
    "hiperplano em 255 dimensões. \n",
    "\n",
    "Para mais detalhes, consulte:\n",
    "\n",
    "Obs: está e uma explicação para uma SVM com kernel linear, como a que usamos neste\n",
    "exemplo. Outros tipos existem e a diferença básica entre eles é que ao invés de\n",
    "um hiperplano, outros modelos geram estruturas geométricas diferentes, que podem\n",
    "ser mais úteis em certos problemas."
   ]
  },
  {
   "cell_type": "markdown",
   "metadata": {},
   "source": [
    "Exercício 1.1: Random Forests\n",
    "-----------------------------\n",
    "\n",
    "Reproduza o primeiro exemplo usando o classificador por *random forests*,\n",
    "você pode variar o número de árvores de decisão usadas pelo parâmetro `n_estimators`\n",
    "e tentar melhorar a precisão do algorítmo."
   ]
  },
  {
   "cell_type": "code",
   "execution_count": 11,
   "metadata": {
    "collapsed": false
   },
   "outputs": [],
   "source": [
    "from sklearn.ensemble import RandomForestClassifier\n",
    "\n",
    "rf = RandomForestClassifier(n_estimators=10)"
   ]
  },
  {
   "cell_type": "markdown",
   "metadata": {},
   "source": [
    "O que é uma Random Forest?\n",
    "--------------------------\n",
    "\n",
    "Resumindo, um algoritmo de *Random Forest* divide os dados em N grupos e monta N\n",
    "árvores de decisão para cada grupo. Ao final, o resultado das várias árvores é\n",
    "combinado para gerar a resposta final."
   ]
  },
  {
   "cell_type": "markdown",
   "metadata": {},
   "source": [
    "A informação está nos dados \n",
    "---------------------------\n",
    "\n",
    "Menos dados pode significar uma precisão pior, já que a informação do\n",
    "nosso modelo está nos dados, e não diretamente no algoritmo empregado.\n",
    "Mas isso nem sempre é verdade, pois o nosso algoritmo pode ter limitações."
   ]
  },
  {
   "cell_type": "code",
   "execution_count": 38,
   "metadata": {
    "collapsed": false
   },
   "outputs": [
    {
     "name": "stdout",
     "output_type": "stream",
     "text": [
      "             precision    recall  f1-score   support\n",
      "\n",
      "          0       0.86      0.99      0.92        79\n",
      "          1       0.98      0.70      0.82        80\n",
      "          2       0.96      0.83      0.89        77\n",
      "          3       0.82      0.76      0.79        79\n",
      "          4       0.99      0.94      0.96        83\n",
      "          5       0.72      0.68      0.70        82\n",
      "          6       0.94      0.93      0.93        80\n",
      "          7       0.85      0.93      0.89        80\n",
      "          8       0.67      0.76      0.71        76\n",
      "          9       0.65      0.79      0.71        81\n",
      "\n",
      "avg / total       0.84      0.83      0.83       797\n",
      "\n"
     ]
    }
   ],
   "source": [
    "# A quantidada de de dados importa\n",
    "svm = SVC(kernel='linear')\n",
    "\n",
    "# Treinamento com 50 imagens\n",
    "svm.fit(digits.data[:50], digits.target[:50])\n",
    "\n",
    "# Testes\n",
    "predicted = svm.predict(digits.data[1000:])\n",
    "expected = digits.target[1000:]\n",
    "print(classification_report(expected, predicted))"
   ]
  },
  {
   "cell_type": "markdown",
   "metadata": {},
   "source": [
    "Exercício 1.2: Rede Neural Perceptron\n",
    "-------------------------------------\n",
    "\n",
    "Vamos agora repetir o problema para uma rede neural do tipo *Perceptron*.\n",
    "Também não vamos entrar em detalhes do algoritmo agora, mas podemos dizer\n",
    "que ele é um algoritmo mais versátil que SVMs e *Random Forests*."
   ]
  },
  {
   "cell_type": "code",
   "execution_count": 36,
   "metadata": {
    "collapsed": false
   },
   "outputs": [],
   "source": [
    "from sklearn.neural_network import MLPClassifier \n",
    "\n",
    "mlp = MLPClassifier(hidden_layer_sizes=(100))"
   ]
  },
  {
   "cell_type": "markdown",
   "metadata": {},
   "source": [
    "Desafio: Melhorar a precisão\n",
    "----------------------------\n",
    "\n",
    "Não discutimos isto, mas os algoritmos utilizados tem parâmetros que permitem \n",
    "obter um modelo melhor. Busque na documentação os algoritmos utilizados \n",
    "(ou outros se preferir) e procure melhorar a precisão dos algoritmos."
   ]
  }
 ],
 "metadata": {
  "kernelspec": {
   "display_name": "Python 2",
   "language": "python",
   "name": "python2"
  },
  "language_info": {
   "codemirror_mode": {
    "name": "ipython",
    "version": 2
   },
   "file_extension": ".py",
   "mimetype": "text/x-python",
   "name": "python",
   "nbconvert_exporter": "python",
   "pygments_lexer": "ipython2",
   "version": "2.7.12"
  }
 },
 "nbformat": 4,
 "nbformat_minor": 1
}
