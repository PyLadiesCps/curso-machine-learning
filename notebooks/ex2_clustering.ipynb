{
 "cells": [
  {
   "cell_type": "markdown",
   "metadata": {},
   "source": [
    "Exemplo 2\n",
    "=========\n",
    "\n",
    "Voltaremos agora aos dados de dígitos, mas agora com métodos de \n",
    "aprendizado não supervisionado. Vamos aplicar um algoritmo denominado\n",
    "*k-means*, que é capaz de agrupar os dados em k grupos dada a proximidade\n",
    "dos dados."
   ]
  },
  {
   "cell_type": "code",
   "execution_count": null,
   "metadata": {
    "collapsed": false
   },
   "outputs": [],
   "source": [
    "from sklearn import datasets\n",
    "from sklearn.cluster import KMeans\n",
    "\n",
    "digits = datasets.load_digits()\n",
    "kmeans = KMeans(n_clusters=10)\n",
    "\n",
    "kmeans.fit(digits.data)"
   ]
  },
  {
   "cell_type": "markdown",
   "metadata": {},
   "source": [
    "Exercício 2.1: visualizando as classes\n",
    "--------------------------------------\n",
    "\n",
    "Tente explicar por que isto não funciona? Rode algumas vezes até que\n",
    "algum dos números de uma alta taxa de acerto."
   ]
  },
  {
   "cell_type": "code",
   "execution_count": null,
   "metadata": {
    "collapsed": false
   },
   "outputs": [],
   "source": [
    "from sklearn.metrics import classification_report\n",
    "\n",
    "kmeans.fit(digits.data)\n",
    "predicted = kmeans.predict(digits.data)\n",
    "\n",
    "print(classification_report(digits.target, predicted))"
   ]
  },
  {
   "cell_type": "markdown",
   "metadata": {},
   "source": [
    "Mapeando as classes\n",
    "-------------------\n",
    "\n",
    "Vamos tentar encontrar uma correspondência entre os grupos\n",
    "identificados via *clustering* e os dígitos. O que isto significa?\n",
    "Isto contradiz a ideia de um método não supervisionado?"
   ]
  },
  {
   "cell_type": "code",
   "execution_count": null,
   "metadata": {
    "collapsed": false
   },
   "outputs": [],
   "source": [
    "print(kmeans.labels_[10:20])\n",
    "print(digits.target[10:20])\n",
    "\n",
    "mapping = dict(zip(kmeans.labels_[10:20], digits.target[10:20]))\n",
    "print mapping\n",
    "\n",
    "labels = [mapping[lbl] for lbl in kmeans.labels_]\n",
    "\n",
    "print(classification_report(digits.target, labels))"
   ]
  },
  {
   "cell_type": "markdown",
   "metadata": {
    "collapsed": false
   },
   "source": [
    "Desafio\n",
    "-------\n",
    "\n",
    "Utilizar uma SVM com apenas 50 imagens e montar um algoritmo semi-supervisionado."
   ]
  },
  {
   "cell_type": "code",
   "execution_count": null,
   "metadata": {
    "collapsed": false
   },
   "outputs": [],
   "source": [
    "from sklearn.svm import SVC\n",
    "svm = SVC(kernel='linear')\n",
    "\n",
    "# Treinamento com 50 imagens\n",
    "svm.fit(digits.data[:50], digits.target[:50])"
   ]
  }
 ],
 "metadata": {
  "kernelspec": {
   "display_name": "Python 2",
   "language": "python",
   "name": "python2"
  },
  "language_info": {
   "codemirror_mode": {
    "name": "ipython",
    "version": 2
   },
   "file_extension": ".py",
   "mimetype": "text/x-python",
   "name": "python",
   "nbconvert_exporter": "python",
   "pygments_lexer": "ipython2",
   "version": "2.7.12"
  }
 },
 "nbformat": 4,
 "nbformat_minor": 1
}
