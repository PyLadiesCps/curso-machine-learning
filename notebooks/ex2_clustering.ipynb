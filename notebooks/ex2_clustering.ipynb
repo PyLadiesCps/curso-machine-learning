{
 "cells": [
  {
   "cell_type": "markdown",
   "metadata": {},
   "source": [
    "Exemplo 2\n",
    "=========\n",
    "\n",
    "Voltaremos agora aos dados de dígitos, mas agora com métodos de \n",
    "aprendizado não supervisionado. Vamos aplicar um algoritmo denominado\n",
    "*k-means*, que é capaz de agrupar os dados em k grupos dada a proximidade\n",
    "dos dados."
   ]
  },
  {
   "cell_type": "code",
   "execution_count": 225,
   "metadata": {
    "collapsed": false
   },
   "outputs": [
    {
     "data": {
      "text/plain": [
       "KMeans(algorithm='auto', copy_x=True, init='k-means++', max_iter=300,\n",
       "    n_clusters=10, n_init=10, n_jobs=1, precompute_distances='auto',\n",
       "    random_state=None, tol=0.0001, verbose=0)"
      ]
     },
     "execution_count": 225,
     "metadata": {},
     "output_type": "execute_result"
    }
   ],
   "source": [
    "%matplotlib inline\n",
    "import matplotlib.pyplot as plt\n",
    "\n",
    "from sklearn import datasets\n",
    "from sklearn.cluster import KMeans\n",
    "\n",
    "\n",
    "digits = datasets.load_digits()\n",
    "\n",
    "kmeans.fit(digits.data)"
   ]
  },
  {
   "cell_type": "markdown",
   "metadata": {},
   "source": [
    "Exercício 2.1: visualizando as classes\n",
    "--------------------------------------\n",
    "\n",
    "Tente explicar por que isto não funciona? Rode algumas vezes até que\n",
    "algum dos números de uma alta taxa de acerto."
   ]
  },
  {
   "cell_type": "code",
   "execution_count": 246,
   "metadata": {
    "collapsed": false
   },
   "outputs": [
    {
     "name": "stdout",
     "output_type": "stream",
     "text": [
      "             precision    recall  f1-score   support\n",
      "\n",
      "          0       0.00      0.00      0.00       178\n",
      "          1       0.01      0.01      0.01       182\n",
      "          2       0.04      0.05      0.04       177\n",
      "          3       0.00      0.00      0.00       183\n",
      "          4       0.00      0.00      0.00       181\n",
      "          5       0.01      0.01      0.01       182\n",
      "          6       0.00      0.00      0.00       181\n",
      "          7       0.03      0.03      0.03       179\n",
      "          8       0.05      0.03      0.04       174\n",
      "          9       0.56      0.77      0.65       180\n",
      "\n",
      "avg / total       0.07      0.09      0.08      1797\n",
      "\n"
     ]
    }
   ],
   "source": [
    "from sklearn.metrics import classification_report\n",
    "\n",
    "kmeans.fit(digits.data)\n",
    "predicted = kmeans.predict(digits.data)\n",
    "\n",
    "print(classification_report(expected, predicted))"
   ]
  },
  {
   "cell_type": "markdown",
   "metadata": {},
   "source": [
    "Mapeando as classes\n",
    "-------------------\n",
    "\n",
    "Vamos tentar encontrar uma correspondência entre os grupos\n",
    "identificados via *clustering* e os dígitos. O que isto significa?\n",
    "Isto contradiz a ideia de um método não supervisionado?"
   ]
  },
  {
   "cell_type": "code",
   "execution_count": 247,
   "metadata": {
    "collapsed": false
   },
   "outputs": [
    {
     "name": "stdout",
     "output_type": "stream",
     "text": [
      "[3 8 0 1 5 7 4 6 2 9]\n",
      "[0 1 2 3 4 5 6 7 8 9]\n",
      "{0: 2, 1: 3, 2: 8, 3: 0, 4: 6, 5: 4, 6: 7, 7: 5, 8: 1, 9: 9}\n",
      "             precision    recall  f1-score   support\n",
      "\n",
      "          0       0.99      0.99      0.99       178\n",
      "          1       0.60      0.30      0.40       182\n",
      "          2       0.85      0.84      0.84       177\n",
      "          3       0.87      0.84      0.85       183\n",
      "          4       0.99      0.90      0.94       181\n",
      "          5       0.86      0.75      0.80       182\n",
      "          6       0.97      0.98      0.98       181\n",
      "          7       0.87      0.95      0.91       179\n",
      "          8       0.45      0.57      0.50       174\n",
      "          9       0.56      0.77      0.65       180\n",
      "\n",
      "avg / total       0.80      0.79      0.79      1797\n",
      "\n"
     ]
    }
   ],
   "source": [
    "print(kmeans.labels_[10:20])\n",
    "print(digits.target[10:20])\n",
    "\n",
    " \n",
    "mapping = dict(zip(kmeans.labels_[10:20], digits.target[10:20]))\n",
    "print mapping\n",
    "\n",
    "labels = [mapping[lbl] for lbl in kmeans.labels_]\n",
    "\n",
    "print(classification_report(digits.target, labels))"
   ]
  },
  {
   "cell_type": "markdown",
   "metadata": {
    "collapsed": false
   },
   "source": [
    "Desafio\n",
    "-------\n",
    "\n",
    "Utilizar uma SVM com apenas 50 imagens e montar um algoritmo semi-supervisionado."
   ]
  },
  {
   "cell_type": "code",
   "execution_count": null,
   "metadata": {
    "collapsed": true
   },
   "outputs": [],
   "source": [
    "from sklearn.metrics import classification_report\n",
    "svm = SVC(kernel='linear')\n",
    "\n",
    "# Treinamento com 50 imagens\n",
    "svm.fit(digits.data[:50], digits.target[:50])"
   ]
  }
 ],
 "metadata": {
  "kernelspec": {
   "display_name": "Python 2",
   "language": "python",
   "name": "python2"
  },
  "language_info": {
   "codemirror_mode": {
    "name": "ipython",
    "version": 2
   },
   "file_extension": ".py",
   "mimetype": "text/x-python",
   "name": "python",
   "nbconvert_exporter": "python",
   "pygments_lexer": "ipython2",
   "version": "2.7.12"
  }
 },
 "nbformat": 4,
 "nbformat_minor": 1
}
