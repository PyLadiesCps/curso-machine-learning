{
 "cells": [
  {
   "cell_type": "code",
   "execution_count": 121,
   "metadata": {
    "collapsed": false
   },
   "outputs": [
    {
     "name": "stdout",
     "output_type": "stream",
     "text": [
      "<class 'sklearn.datasets.base.Bunch'>\n",
      "(u'Numero de imagens:', 1797)\n"
     ]
    }
   ],
   "source": [
    "# datasets de exemplo\n",
    "from sklearn import datasets\n",
    "digits = datasets.load_digits()\n",
    "\n",
    "print(type(digits))\n",
    "# Se você quer saber mais sobre Bunches\n",
    "#print(help(digits))\n",
    "print(\"Numero de imagens:\", len(digits.images))"
   ]
  },
  {
   "cell_type": "code",
   "execution_count": 60,
   "metadata": {
    "collapsed": false
   },
   "outputs": [
    {
     "data": {
      "image/png": "[encoded data removed]",
      "text/plain": [
       "<matplotlib.figure.Figure at 0x7fd6fc8e6c50>"
      ]
     },
     "metadata": {},
     "output_type": "display_data"
    },
    {
     "name": "stdout",
     "output_type": "stream",
     "text": [
      "('Class:', 0)\n"
     ]
    }
   ],
   "source": [
    "# Exemplos dos dados\n",
    "plt.imshow(digits.images[0], cmap=plt.cm.binary)\n",
    "plt.show()\n",
    "print(\"Class:\", digits.target[0])"
   ]
  },
  {
   "cell_type": "code",
   "execution_count": 108,
   "metadata": {
    "collapsed": false
   },
   "outputs": [
    {
     "name": "stdout",
     "output_type": "stream",
     "text": [
      "[1 4 0 5 3 6 9 6 1 7]\n",
      "[1 4 0 5 3 6 9 6 1 7]\n"
     ]
    }
   ],
   "source": [
    "# Modelo de classificação com SVM\n",
    "from sklearn.svm import SVC\n",
    "from sklearn.metrics import classification_report\n",
    "\n",
    "# Treinamento (com 1000 imagens)\n",
    "clf.fit(digits.data[:1000], digits.target[:1000])\n",
    "\n",
    "# Testes (com 10 imagens)\n",
    "predicted = clf.predict(digits.data[1000:1010])\n",
    "expected = digits.target[1000:1010]\n",
    "\n",
    "print predicted\n",
    "print expected"
   ]
  },
  {
   "cell_type": "code",
   "execution_count": 109,
   "metadata": {
    "collapsed": false
   },
   "outputs": [
    {
     "name": "stdout",
     "output_type": "stream",
     "text": [
      "             precision    recall  f1-score   support\n",
      "\n",
      "          0       1.00      0.99      0.99        79\n",
      "          1       0.99      0.95      0.97        80\n",
      "          2       0.99      0.99      0.99        77\n",
      "          3       0.97      0.87      0.92        79\n",
      "          4       0.99      0.95      0.97        83\n",
      "          5       0.95      0.99      0.97        82\n",
      "          6       0.99      0.99      0.99        80\n",
      "          7       0.96      1.00      0.98        80\n",
      "          8       0.93      1.00      0.96        76\n",
      "          9       0.94      0.98      0.96        81\n",
      "\n",
      "avg / total       0.97      0.97      0.97       797\n",
      "\n"
     ]
    }
   ],
   "source": [
    "# Mais Testes (com 797 imagens)\n",
    "predicted = clf.predict(digits.data[1000:])\n",
    "expected = digits.target[1000:]\n",
    "print(classification_report(expected, predicted))"
   ]
  },
  {
   "cell_type": "code",
   "execution_count": 110,
   "metadata": {
    "collapsed": false
   },
   "outputs": [
    {
     "name": "stdout",
     "output_type": "stream",
     "text": [
      "             precision    recall  f1-score   support\n",
      "\n",
      "          0       0.92      0.99      0.96       171\n",
      "          1       0.88      0.59      0.71       177\n",
      "          2       0.85      0.76      0.81       174\n",
      "          3       0.96      0.75      0.85       179\n",
      "          4       0.99      0.71      0.83       177\n",
      "          5       0.66      0.77      0.71       175\n",
      "          6       0.93      0.87      0.90       177\n",
      "          7       0.73      0.93      0.82       174\n",
      "          8       0.70      0.73      0.71       169\n",
      "          9       0.55      0.80      0.65       174\n",
      "\n",
      "avg / total       0.82      0.79      0.79      1747\n",
      "\n"
     ]
    }
   ],
   "source": [
    "# A quantidada de de dados importa\n",
    "\n",
    "# Treinamento com 50 imagens\n",
    "clf.fit(digits.data[:50], digits.target[:50])\n",
    "\n",
    "# Testes\n",
    "predicted = clf.predict(digits.data[50:])\n",
    "expected = digits.target[50:]\n",
    "print(classification_report(expected, predicted))"
   ]
  }
 ],
 "metadata": {
  "kernelspec": {
   "display_name": "Python 2",
   "language": "python",
   "name": "python2"
  },
  "language_info": {
   "codemirror_mode": {
    "name": "ipython",
    "version": 2
   },
   "file_extension": ".py",
   "mimetype": "text/x-python",
   "name": "python",
   "nbconvert_exporter": "python",
   "pygments_lexer": "ipython2",
   "version": "2.7.9"
  }
 },
 "nbformat": 4,
 "nbformat_minor": 1
}
